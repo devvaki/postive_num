{
 "cells": [
  {
   "cell_type": "code",
   "execution_count": 7,
   "id": "9888a4ed",
   "metadata": {},
   "outputs": [
    {
     "name": "stdout",
     "output_type": "stream",
     "text": [
      "12 5 64 "
     ]
    }
   ],
   "source": [
    "list1 = [12,-7,5,64,-14]\n",
    "i = 0   \n",
    "while(i < len(list1)):\n",
    "     \n",
    "   \n",
    "    if list1[i] >= 0:\n",
    "        print(list1[i], end = \" \")\n",
    "     \n",
    "    i += 1"
   ]
  },
  {
   "cell_type": "code",
   "execution_count": 8,
   "id": "ea4709e0",
   "metadata": {},
   "outputs": [
    {
     "name": "stdout",
     "output_type": "stream",
     "text": [
      "12 14 3 "
     ]
    }
   ],
   "source": [
    "list2 = [12,14,-95,3]\n",
    "i= 0   \n",
    "while(i < len(list2)):\n",
    "    if list2[i] >= 0:\n",
    "        print(list2[i], end = \" \")\n",
    "    i += 1"
   ]
  },
  {
   "cell_type": "code",
   "execution_count": null,
   "id": "aee3a56e",
   "metadata": {},
   "outputs": [],
   "source": []
  }
 ],
 "metadata": {
  "kernelspec": {
   "display_name": "Python 3 (ipykernel)",
   "language": "python",
   "name": "python3"
  },
  "language_info": {
   "codemirror_mode": {
    "name": "ipython",
    "version": 3
   },
   "file_extension": ".py",
   "mimetype": "text/x-python",
   "name": "python",
   "nbconvert_exporter": "python",
   "pygments_lexer": "ipython3",
   "version": "3.11.3"
  }
 },
 "nbformat": 4,
 "nbformat_minor": 5
}
